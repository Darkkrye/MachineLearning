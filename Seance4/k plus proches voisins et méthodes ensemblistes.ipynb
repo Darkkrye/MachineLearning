{
 "cells": [
  {
   "cell_type": "markdown",
   "metadata": {},
   "source": [
    "#  TP\n",
    "\n",
    "## Exercice 1\n",
    "\n",
    "Vous devez coder votre propre classifieur : une version de l'algorithme des k plus proches voisins. \n",
    "\n",
    "Méthode \n",
    "- au préalable, il est nécessaire de définir une métrique sur l'espace des exemples (x) : une fonction (nommée dist par la suite) qui prend en paramètre 2 exemples (2 lignes) et qui renvoie un float valant la distance de l'un à l'autre. On utilise généralement la distance euclidienne (dimension = nb de colonnes)\n",
    "- Choisir un entier k\n",
    "- Phase de prédiction : comment classer un newx ?\n",
    "    - Récupérer les k plus proches voisins de newx (et leur classes)\n",
    "    - établir la classe de newx par un vote à la majorité des voisins\n",
    "    \n",
    "    \n",
    "1. Coder une fonction kppvPredict(xtrain, ytrain, new, k ) qui renvoie la prediction de la classe d'un nouvel exemple new. xtrain, ytrain désigne l'ensemble d'apprentissage. La fonction fera appel à dist, à définir à part (ou mieux, en paramètre) \n",
    "\n",
    "2. Evaluer la performance de votre algorithme sur le dataset Iris. Utiliser vos fonction d'accuracy ou celles de sklearn.metrics\n",
    "\n",
    "3. y a t il une meilleure valeur pour k ?\n"
   ]
  },
  {
   "cell_type": "markdown",
   "metadata": {
    "collapsed": true
   },
   "source": [
    "## Exercice 2\n",
    "\n",
    "1. Mesurer l'amplitude pour les 4 attributs (toujours sur la base Iris), les moyennes, et les écarts types\n",
    "2. Normaliser les valeurs des colonnes. La performance est elle meilleure ?\n",
    "\n"
   ]
  },
  {
   "cell_type": "markdown",
   "metadata": {},
   "source": [
    "## Exercice 3\n",
    "\n",
    "On souhaite désormais produire n classifieurs différents (selon leur valeur de k, selon des pondérations dans la fonction dist) et prédire la classe d'un nouvel exemple par un vote à la majorité des classifieurs. \n",
    "\n",
    "Ecrire une fonction qui opérationnalise cela, de la division (judicieuse) du dataset à la prédiction et à la mesure de performance. Est ce meilleur ?"
   ]
  }
 ],
 "metadata": {
  "kernelspec": {
   "display_name": "Python 3",
   "language": "python",
   "name": "python3"
  },
  "language_info": {
   "codemirror_mode": {
    "name": "ipython",
    "version": 3
   },
   "file_extension": ".py",
   "mimetype": "text/x-python",
   "name": "python",
   "nbconvert_exporter": "python",
   "pygments_lexer": "ipython3",
   "version": "3.5.2"
  }
 },
 "nbformat": 4,
 "nbformat_minor": 1
}
