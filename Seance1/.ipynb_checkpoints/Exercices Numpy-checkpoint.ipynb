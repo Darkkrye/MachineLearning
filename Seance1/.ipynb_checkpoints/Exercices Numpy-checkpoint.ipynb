{
 "cells": [
  {
   "cell_type": "markdown",
   "metadata": {},
   "source": [
    "# Exercices numpy"
   ]
  },
  {
   "cell_type": "markdown",
   "metadata": {},
   "source": [
    "Dans ces exercices, il faut privilégier les solutions Numpy, plutôt que de les recoder en python"
   ]
  },
  {
   "cell_type": "code",
   "execution_count": 1,
   "metadata": {
    "collapsed": true
   },
   "outputs": [],
   "source": [
    "import numpy as np"
   ]
  },
  {
   "cell_type": "markdown",
   "metadata": {},
   "source": [
    "1. Créer et afficher un tableau numpy comprenant dans l'ordre les entiers de 10 à 59"
   ]
  },
  {
   "cell_type": "code",
   "execution_count": 2,
   "metadata": {},
   "outputs": [
    {
     "name": "stdout",
     "output_type": "stream",
     "text": [
      "[10 11 12 13 14 15 16 17 18 19 20 21 22 23 24 25 26 27 28 29 30 31 32 33 34\n",
      " 35 36 37 38 39 40 41 42 43 44 45 46 47 48 49 50 51 52 53 54 55 56 57 58 59]\n"
     ]
    }
   ],
   "source": [
    "numpy_array = np.arange(10, 60)\n",
    "print(numpy_array)"
   ]
  },
  {
   "cell_type": "markdown",
   "metadata": {},
   "source": [
    "2. Créer un tableau x et l'inverser. Utiliser le slicing "
   ]
  },
  {
   "cell_type": "code",
   "execution_count": 3,
   "metadata": {},
   "outputs": [
    {
     "name": "stdout",
     "output_type": "stream",
     "text": [
      "[59 58 57 56 55 54 53 52 51 50 49 48 47 46 45 44 43 42 41 40 39 38 37 36 35\n",
      " 34 33 32 31 30 29 28 27 26 25 24 23 22 21 20 19 18 17 16 15 14 13 12 11 10]\n"
     ]
    }
   ],
   "source": [
    "xx = numpy_array[::-1]\n",
    "print(xx)"
   ]
  },
  {
   "cell_type": "markdown",
   "metadata": {},
   "source": [
    "3. Créer un tableau 3*3 contenant les valeurs de 0 à 8"
   ]
  },
  {
   "cell_type": "code",
   "execution_count": 4,
   "metadata": {},
   "outputs": [
    {
     "name": "stdout",
     "output_type": "stream",
     "text": [
      "[[0 1 2]\n",
      " [3 4 5]\n",
      " [6 7 8]]\n"
     ]
    }
   ],
   "source": [
    "array33 = np.arange(9)\n",
    "array33 = array33.reshape(3, 3)\n",
    "print(array33)"
   ]
  },
  {
   "cell_type": "markdown",
   "metadata": {},
   "source": [
    "4. Créer un tableau 10*10 avec des valeurs aléatoires et trouver le minimum et le maximum"
   ]
  },
  {
   "cell_type": "code",
   "execution_count": 5,
   "metadata": {},
   "outputs": [
    {
     "name": "stdout",
     "output_type": "stream",
     "text": [
      "[[65 29  5 44 79 77 21 28 28 40]\n",
      " [25 81 76 11 77 78 59 79 84 65]\n",
      " [13 27 36 18 33 79 52 54 53 54]\n",
      " [26 35 24 94 79 59 14 69 97 79]\n",
      " [48 75 30 61 70 66  7  5 74 65]\n",
      " [22 93 40 40 71 35 25 46 53  6]\n",
      " [47 33 28 56 22 45 10 91 80 54]\n",
      " [43 42 51 76 96 54 10 22  9 87]\n",
      " [80 72 64 17 38 34 49  3 42 30]\n",
      " [53 38 96 63 18 74 64 13 85 16]]\n",
      "3\n",
      "97\n"
     ]
    }
   ],
   "source": [
    "array1010 = np.random.randint(100, size=100).reshape(10, 10)\n",
    "print(array1010)\n",
    "print(array1010.min())\n",
    "print(array1010.max())"
   ]
  },
  {
   "cell_type": "markdown",
   "metadata": {},
   "source": [
    "6. Créer un tableau 2D avec des 1 sur les bords et des 0 à l'intérieur.  "
   ]
  },
  {
   "cell_type": "code",
   "execution_count": 42,
   "metadata": {},
   "outputs": [
    {
     "name": "stdout",
     "output_type": "stream",
     "text": [
      "[[1 1 1 1 1 1 1 1 1 1 1 1 1 1 1]\n",
      " [1 0 0 0 0 0 0 0 0 0 0 0 0 0 1]\n",
      " [1 0 0 0 0 0 0 0 0 0 0 0 0 0 1]\n",
      " [1 0 0 0 0 0 0 0 0 0 0 0 0 0 1]\n",
      " [1 1 1 1 1 1 1 1 1 1 1 1 1 1 1]]\n"
     ]
    }
   ],
   "source": [
    "array2D = np.full((5, 15), 0, dtype=int)\n",
    "# Change Top\n",
    "#array2D[[0,]] = 1\n",
    "# Change Bottom\n",
    "#array2D[[array2D.shape[0] - 1,]] = 1\n",
    "\n",
    "# Change Top and Bottom\n",
    "array2D[[0, array2D.shape[0] - 1]] = 1\n",
    "\n",
    "# Change Left\n",
    "array2D[:, 0] = 1\n",
    "\n",
    "# Change Right\n",
    "array2D[:, array2D.shape[1] - 1] = 1\n",
    "\n",
    "print(array2D)"
   ]
  },
  {
   "cell_type": "markdown",
   "metadata": {},
   "source": [
    "7. Créer un tableau à 1 dimension et inverser tous les éléments compris entre 3 et 8 (inclus). Utiliser un tableau booléen comme masque.  "
   ]
  },
  {
   "cell_type": "markdown",
   "metadata": {},
   "source": [
    "8. Créer un tableau de 19 valeurs décimales croissantes à pas égal entre 13.4 et 123.99 (inclus puis exclus). Utiliser np.linspace.  "
   ]
  },
  {
   "cell_type": "markdown",
   "metadata": {},
   "source": [
    "9. Créer un tableau de 19 valeurs décimales aléatoires et remplacer le maximum par 0.   "
   ]
  },
  {
   "cell_type": "markdown",
   "metadata": {},
   "source": [
    "10. Créer un tableau avec des valeurs aléatoires. Soustraire à chaque case sa moyenne. Utiliser le broadcasting. Vérifier que la moyenne est nulle"
   ]
  },
  {
   "cell_type": "markdown",
   "metadata": {},
   "source": [
    "11. Créer un tableau 5*5 avec des valeurs aléatoires. Soustraire à chaque colonne sa moyenne. "
   ]
  },
  {
   "cell_type": "markdown",
   "metadata": {},
   "source": [
    "12. Créer un tableau de 10*2 avec des valeurs aléatoires représentant des coordonnées de points. \n",
    "\n",
    "- Trouver le tableau 10*10 qui consigne les distances entre chaque paire de points. Utiliser (au maximum) le broadcasting\n",
    "- Relier chaque point à son voisin le plus proche\n",
    "- Relier chaque point à ses 3 plus proches voisins\n",
    "\n",
    "Reprendre le code suivant pour afficher les points"
   ]
  },
  {
   "cell_type": "code",
   "execution_count": null,
   "metadata": {},
   "outputs": [],
   "source": [
    "ages = 2\n",
    "x,y=np.histogram(ages)\n",
    "x,y"
   ]
  },
  {
   "cell_type": "markdown",
   "metadata": {},
   "source": [
    "1. Refaire les memsures précédentes en distingant les passagers ayant survécus des autres. Pour l'histogramme, faire apparaître 2 barres par tranche d'age. Utiliser plt.subplots et np.histogram\n",
    "2. Y a t il un attribut (hormis survived) qui est plus significatif dans la séparation des survivants/non survivants"
   ]
  },
  {
   "cell_type": "code",
   "execution_count": null,
   "metadata": {
    "collapsed": true
   },
   "outputs": [],
   "source": []
  }
 ],
 "metadata": {
  "kernelspec": {
   "display_name": "Python 3",
   "language": "python",
   "name": "python3"
  },
  "language_info": {
   "codemirror_mode": {
    "name": "ipython",
    "version": 3
   },
   "file_extension": ".py",
   "mimetype": "text/x-python",
   "name": "python",
   "nbconvert_exporter": "python",
   "pygments_lexer": "ipython3",
   "version": "3.6.1"
  }
 },
 "nbformat": 4,
 "nbformat_minor": 1
}
