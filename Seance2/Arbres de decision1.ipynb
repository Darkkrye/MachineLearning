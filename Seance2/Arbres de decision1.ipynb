{
 "cells": [
  {
   "cell_type": "markdown",
   "metadata": {},
   "source": [
    "# Arbres de décision"
   ]
  },
  {
   "cell_type": "markdown",
   "metadata": {},
   "source": [
    "## Construire et visualiser un arbre de décision"
   ]
  },
  {
   "cell_type": "code",
   "execution_count": 1,
   "metadata": {},
   "outputs": [
    {
     "data": {
      "image/jpeg": "[encoded data removed]",
      "text/plain": [
       "<IPython.core.display.Image object>"
      ]
     },
     "metadata": {
      "image/jpeg": {
       "width": 500
      }
     },
     "output_type": "display_data"
    }
   ],
   "source": [
    "from IPython.core.display import Image, display\n",
    "display(Image('https://upload.wikimedia.org/wikipedia/commons/thumb/4/41/Iris_versicolor_3.jpg/220px-Iris_versicolor_3.jpg', width=500))"
   ]
  },
  {
   "cell_type": "code",
   "execution_count": 31,
   "metadata": {},
   "outputs": [
    {
     "data": {
      "text/plain": [
       "(array([[ 5.1,  3.5,  1.4,  0.2],\n",
       "        [ 4.9,  3. ,  1.4,  0.2],\n",
       "        [ 4.7,  3.2,  1.3,  0.2],\n",
       "        [ 4.6,  3.1,  1.5,  0.2],\n",
       "        [ 5. ,  3.6,  1.4,  0.2],\n",
       "        [ 5.4,  3.9,  1.7,  0.4],\n",
       "        [ 4.6,  3.4,  1.4,  0.3],\n",
       "        [ 5. ,  3.4,  1.5,  0.2],\n",
       "        [ 4.4,  2.9,  1.4,  0.2],\n",
       "        [ 4.9,  3.1,  1.5,  0.1],\n",
       "        [ 5.4,  3.7,  1.5,  0.2],\n",
       "        [ 4.8,  3.4,  1.6,  0.2],\n",
       "        [ 4.8,  3. ,  1.4,  0.1],\n",
       "        [ 4.3,  3. ,  1.1,  0.1],\n",
       "        [ 5.8,  4. ,  1.2,  0.2],\n",
       "        [ 5.7,  4.4,  1.5,  0.4],\n",
       "        [ 5.4,  3.9,  1.3,  0.4],\n",
       "        [ 5.1,  3.5,  1.4,  0.3],\n",
       "        [ 5.7,  3.8,  1.7,  0.3],\n",
       "        [ 5.1,  3.8,  1.5,  0.3],\n",
       "        [ 5.4,  3.4,  1.7,  0.2],\n",
       "        [ 5.1,  3.7,  1.5,  0.4],\n",
       "        [ 4.6,  3.6,  1. ,  0.2],\n",
       "        [ 5.1,  3.3,  1.7,  0.5],\n",
       "        [ 4.8,  3.4,  1.9,  0.2],\n",
       "        [ 5. ,  3. ,  1.6,  0.2],\n",
       "        [ 5. ,  3.4,  1.6,  0.4],\n",
       "        [ 5.2,  3.5,  1.5,  0.2],\n",
       "        [ 5.2,  3.4,  1.4,  0.2],\n",
       "        [ 4.7,  3.2,  1.6,  0.2],\n",
       "        [ 4.8,  3.1,  1.6,  0.2],\n",
       "        [ 5.4,  3.4,  1.5,  0.4],\n",
       "        [ 5.2,  4.1,  1.5,  0.1],\n",
       "        [ 5.5,  4.2,  1.4,  0.2],\n",
       "        [ 4.9,  3.1,  1.5,  0.1],\n",
       "        [ 5. ,  3.2,  1.2,  0.2],\n",
       "        [ 5.5,  3.5,  1.3,  0.2],\n",
       "        [ 4.9,  3.1,  1.5,  0.1],\n",
       "        [ 4.4,  3. ,  1.3,  0.2],\n",
       "        [ 5.1,  3.4,  1.5,  0.2],\n",
       "        [ 5. ,  3.5,  1.3,  0.3],\n",
       "        [ 4.5,  2.3,  1.3,  0.3],\n",
       "        [ 4.4,  3.2,  1.3,  0.2],\n",
       "        [ 5. ,  3.5,  1.6,  0.6],\n",
       "        [ 5.1,  3.8,  1.9,  0.4],\n",
       "        [ 4.8,  3. ,  1.4,  0.3],\n",
       "        [ 5.1,  3.8,  1.6,  0.2],\n",
       "        [ 4.6,  3.2,  1.4,  0.2],\n",
       "        [ 5.3,  3.7,  1.5,  0.2],\n",
       "        [ 5. ,  3.3,  1.4,  0.2],\n",
       "        [ 7. ,  3.2,  4.7,  1.4],\n",
       "        [ 6.4,  3.2,  4.5,  1.5],\n",
       "        [ 6.9,  3.1,  4.9,  1.5],\n",
       "        [ 5.5,  2.3,  4. ,  1.3],\n",
       "        [ 6.5,  2.8,  4.6,  1.5],\n",
       "        [ 5.7,  2.8,  4.5,  1.3],\n",
       "        [ 6.3,  3.3,  4.7,  1.6],\n",
       "        [ 4.9,  2.4,  3.3,  1. ],\n",
       "        [ 6.6,  2.9,  4.6,  1.3],\n",
       "        [ 5.2,  2.7,  3.9,  1.4],\n",
       "        [ 5. ,  2. ,  3.5,  1. ],\n",
       "        [ 5.9,  3. ,  4.2,  1.5],\n",
       "        [ 6. ,  2.2,  4. ,  1. ],\n",
       "        [ 6.1,  2.9,  4.7,  1.4],\n",
       "        [ 5.6,  2.9,  3.6,  1.3],\n",
       "        [ 6.7,  3.1,  4.4,  1.4],\n",
       "        [ 5.6,  3. ,  4.5,  1.5],\n",
       "        [ 5.8,  2.7,  4.1,  1. ],\n",
       "        [ 6.2,  2.2,  4.5,  1.5],\n",
       "        [ 5.6,  2.5,  3.9,  1.1],\n",
       "        [ 5.9,  3.2,  4.8,  1.8],\n",
       "        [ 6.1,  2.8,  4. ,  1.3],\n",
       "        [ 6.3,  2.5,  4.9,  1.5],\n",
       "        [ 6.1,  2.8,  4.7,  1.2],\n",
       "        [ 6.4,  2.9,  4.3,  1.3],\n",
       "        [ 6.6,  3. ,  4.4,  1.4],\n",
       "        [ 6.8,  2.8,  4.8,  1.4],\n",
       "        [ 6.7,  3. ,  5. ,  1.7],\n",
       "        [ 6. ,  2.9,  4.5,  1.5],\n",
       "        [ 5.7,  2.6,  3.5,  1. ],\n",
       "        [ 5.5,  2.4,  3.8,  1.1],\n",
       "        [ 5.5,  2.4,  3.7,  1. ],\n",
       "        [ 5.8,  2.7,  3.9,  1.2],\n",
       "        [ 6. ,  2.7,  5.1,  1.6],\n",
       "        [ 5.4,  3. ,  4.5,  1.5],\n",
       "        [ 6. ,  3.4,  4.5,  1.6],\n",
       "        [ 6.7,  3.1,  4.7,  1.5],\n",
       "        [ 6.3,  2.3,  4.4,  1.3],\n",
       "        [ 5.6,  3. ,  4.1,  1.3],\n",
       "        [ 5.5,  2.5,  4. ,  1.3],\n",
       "        [ 5.5,  2.6,  4.4,  1.2],\n",
       "        [ 6.1,  3. ,  4.6,  1.4],\n",
       "        [ 5.8,  2.6,  4. ,  1.2],\n",
       "        [ 5. ,  2.3,  3.3,  1. ],\n",
       "        [ 5.6,  2.7,  4.2,  1.3],\n",
       "        [ 5.7,  3. ,  4.2,  1.2],\n",
       "        [ 5.7,  2.9,  4.2,  1.3],\n",
       "        [ 6.2,  2.9,  4.3,  1.3],\n",
       "        [ 5.1,  2.5,  3. ,  1.1],\n",
       "        [ 5.7,  2.8,  4.1,  1.3],\n",
       "        [ 6.3,  3.3,  6. ,  2.5],\n",
       "        [ 5.8,  2.7,  5.1,  1.9],\n",
       "        [ 7.1,  3. ,  5.9,  2.1],\n",
       "        [ 6.3,  2.9,  5.6,  1.8],\n",
       "        [ 6.5,  3. ,  5.8,  2.2],\n",
       "        [ 7.6,  3. ,  6.6,  2.1],\n",
       "        [ 4.9,  2.5,  4.5,  1.7],\n",
       "        [ 7.3,  2.9,  6.3,  1.8],\n",
       "        [ 6.7,  2.5,  5.8,  1.8],\n",
       "        [ 7.2,  3.6,  6.1,  2.5],\n",
       "        [ 6.5,  3.2,  5.1,  2. ],\n",
       "        [ 6.4,  2.7,  5.3,  1.9],\n",
       "        [ 6.8,  3. ,  5.5,  2.1],\n",
       "        [ 5.7,  2.5,  5. ,  2. ],\n",
       "        [ 5.8,  2.8,  5.1,  2.4],\n",
       "        [ 6.4,  3.2,  5.3,  2.3],\n",
       "        [ 6.5,  3. ,  5.5,  1.8],\n",
       "        [ 7.7,  3.8,  6.7,  2.2],\n",
       "        [ 7.7,  2.6,  6.9,  2.3],\n",
       "        [ 6. ,  2.2,  5. ,  1.5],\n",
       "        [ 6.9,  3.2,  5.7,  2.3],\n",
       "        [ 5.6,  2.8,  4.9,  2. ],\n",
       "        [ 7.7,  2.8,  6.7,  2. ],\n",
       "        [ 6.3,  2.7,  4.9,  1.8],\n",
       "        [ 6.7,  3.3,  5.7,  2.1],\n",
       "        [ 7.2,  3.2,  6. ,  1.8],\n",
       "        [ 6.2,  2.8,  4.8,  1.8],\n",
       "        [ 6.1,  3. ,  4.9,  1.8],\n",
       "        [ 6.4,  2.8,  5.6,  2.1],\n",
       "        [ 7.2,  3. ,  5.8,  1.6],\n",
       "        [ 7.4,  2.8,  6.1,  1.9],\n",
       "        [ 7.9,  3.8,  6.4,  2. ],\n",
       "        [ 6.4,  2.8,  5.6,  2.2],\n",
       "        [ 6.3,  2.8,  5.1,  1.5],\n",
       "        [ 6.1,  2.6,  5.6,  1.4],\n",
       "        [ 7.7,  3. ,  6.1,  2.3],\n",
       "        [ 6.3,  3.4,  5.6,  2.4],\n",
       "        [ 6.4,  3.1,  5.5,  1.8],\n",
       "        [ 6. ,  3. ,  4.8,  1.8],\n",
       "        [ 6.9,  3.1,  5.4,  2.1],\n",
       "        [ 6.7,  3.1,  5.6,  2.4],\n",
       "        [ 6.9,  3.1,  5.1,  2.3],\n",
       "        [ 5.8,  2.7,  5.1,  1.9],\n",
       "        [ 6.8,  3.2,  5.9,  2.3],\n",
       "        [ 6.7,  3.3,  5.7,  2.5],\n",
       "        [ 6.7,  3. ,  5.2,  2.3],\n",
       "        [ 6.3,  2.5,  5. ,  1.9],\n",
       "        [ 6.5,  3. ,  5.2,  2. ],\n",
       "        [ 6.2,  3.4,  5.4,  2.3],\n",
       "        [ 5.9,  3. ,  5.1,  1.8]]),\n",
       " array([0, 0, 0, 0, 0, 0, 0, 0, 0, 0, 0, 0, 0, 0, 0, 0, 0, 0, 0, 0, 0, 0, 0,\n",
       "        0, 0, 0, 0, 0, 0, 0, 0, 0, 0, 0, 0, 0, 0, 0, 0, 0, 0, 0, 0, 0, 0, 0,\n",
       "        0, 0, 0, 0, 1, 1, 1, 1, 1, 1, 1, 1, 1, 1, 1, 1, 1, 1, 1, 1, 1, 1, 1,\n",
       "        1, 1, 1, 1, 1, 1, 1, 1, 1, 1, 1, 1, 1, 1, 1, 1, 1, 1, 1, 1, 1, 1, 1,\n",
       "        1, 1, 1, 1, 1, 1, 1, 1, 2, 2, 2, 2, 2, 2, 2, 2, 2, 2, 2, 2, 2, 2, 2,\n",
       "        2, 2, 2, 2, 2, 2, 2, 2, 2, 2, 2, 2, 2, 2, 2, 2, 2, 2, 2, 2, 2, 2, 2,\n",
       "        2, 2, 2, 2, 2, 2, 2, 2, 2, 2, 2, 2]))"
      ]
     },
     "execution_count": 31,
     "metadata": {},
     "output_type": "execute_result"
    }
   ],
   "source": [
    "from sklearn.datasets import load_iris\n",
    "iris = load_iris()\n",
    "iris.data[:],iris.target[:]"
   ]
  },
  {
   "cell_type": "code",
   "execution_count": 3,
   "metadata": {},
   "outputs": [
    {
     "data": {
      "text/plain": [
       "['sepal length (cm)',\n",
       " 'sepal width (cm)',\n",
       " 'petal length (cm)',\n",
       " 'petal width (cm)']"
      ]
     },
     "execution_count": 3,
     "metadata": {},
     "output_type": "execute_result"
    }
   ],
   "source": [
    "iris.feature_names"
   ]
  },
  {
   "cell_type": "code",
   "execution_count": 4,
   "metadata": {},
   "outputs": [
    {
     "data": {
      "text/plain": [
       "array(['setosa', 'versicolor', 'virginica'], \n",
       "      dtype='<U10')"
      ]
     },
     "execution_count": 4,
     "metadata": {},
     "output_type": "execute_result"
    }
   ],
   "source": [
    "iris.target_names"
   ]
  },
  {
   "cell_type": "code",
   "execution_count": 24,
   "metadata": {},
   "outputs": [],
   "source": [
    "from sklearn.tree import DecisionTreeClassifier, export_graphviz\n",
    "x=iris.data\n",
    "y=iris.target\n",
    "clf = DecisionTreeClassifier().fit(x,y)"
   ]
  },
  {
   "cell_type": "code",
   "execution_count": 25,
   "metadata": {},
   "outputs": [],
   "source": [
    "with open(\"tree.dot\", 'w') as f:\n",
    "        export_graphviz(clf, out_file=f,\n",
    "                        feature_names=iris.feature_names)"
   ]
  },
  {
   "cell_type": "markdown",
   "metadata": {},
   "source": [
    "Après avoir installé Graphviz \n",
    "http://www.graphviz.org/Download..php\n",
    "et ajouté le repértoire de dot.exe à votre PATH:"
   ]
  },
  {
   "cell_type": "code",
   "execution_count": 26,
   "metadata": {},
   "outputs": [],
   "source": [
    "!dot -Tpng tree.dot -o tree.png "
   ]
  },
  {
   "cell_type": "markdown",
   "metadata": {},
   "source": [
    "## Exercices"
   ]
  },
  {
   "cell_type": "markdown",
   "metadata": {},
   "source": [
    "Dans l'exemple précédent, toutes les donneés ont été utilisées pour construire l'arbre. Il ne reste plus d'exemples pour évaluer l'arbre"
   ]
  },
  {
   "cell_type": "markdown",
   "metadata": {},
   "source": [
    "Coder une fonction data_split permettant de diviser les données en un ensemble de test et un ensemble d'apprentissage. Re-construire l'arbre sur les données d'apprentissage et calculer sa performance sur les données de test. Le paramètre prob est un float compris entre 0 et 1 et désigne la probabilité qu'un exemple fasse partie de l'ensemble d'apprentissage. La fonction doit renvoyer (un tuple de 2 tableaux 2d) train_set,test_set"
   ]
  },
  {
   "cell_type": "code",
   "execution_count": 39,
   "metadata": {},
   "outputs": [
    {
     "name": "stdout",
     "output_type": "stream",
     "text": [
      "[(array([ 5.1,  3.5,  1.4,  0.2]), 0), (array([ 4.7,  3.2,  1.3,  0.2]), 0), (array([ 4.6,  3.1,  1.5,  0.2]), 0), (array([ 5. ,  3.6,  1.4,  0.2]), 0), (array([ 4.6,  3.4,  1.4,  0.3]), 0), (array([ 4.4,  2.9,  1.4,  0.2]), 0), (array([ 4.9,  3.1,  1.5,  0.1]), 0), (array([ 4.8,  3. ,  1.4,  0.1]), 0), (array([ 5.7,  4.4,  1.5,  0.4]), 0), (array([ 5.1,  3.5,  1.4,  0.3]), 0), (array([ 5.4,  3.4,  1.7,  0.2]), 0), (array([ 5.1,  3.7,  1.5,  0.4]), 0), (array([ 4.8,  3.4,  1.9,  0.2]), 0), (array([ 5. ,  3. ,  1.6,  0.2]), 0), (array([ 5.2,  3.4,  1.4,  0.2]), 0), (array([ 4.8,  3.1,  1.6,  0.2]), 0), (array([ 5.4,  3.4,  1.5,  0.4]), 0), (array([ 5.5,  4.2,  1.4,  0.2]), 0), (array([ 4.9,  3.1,  1.5,  0.1]), 0), (array([ 5. ,  3.2,  1.2,  0.2]), 0), (array([ 5.5,  3.5,  1.3,  0.2]), 0), (array([ 5.1,  3.4,  1.5,  0.2]), 0), (array([ 5. ,  3.5,  1.3,  0.3]), 0), (array([ 4.5,  2.3,  1.3,  0.3]), 0), (array([ 5.1,  3.8,  1.9,  0.4]), 0), (array([ 6.4,  3.2,  4.5,  1.5]), 1), (array([ 6.9,  3.1,  4.9,  1.5]), 1), (array([ 5.7,  2.8,  4.5,  1.3]), 1), (array([ 4.9,  2.4,  3.3,  1. ]), 1), (array([ 6.6,  2.9,  4.6,  1.3]), 1), (array([ 5.2,  2.7,  3.9,  1.4]), 1), (array([ 5. ,  2. ,  3.5,  1. ]), 1), (array([ 6.7,  3.1,  4.4,  1.4]), 1), (array([ 6.3,  2.5,  4.9,  1.5]), 1), (array([ 6.1,  2.8,  4.7,  1.2]), 1), (array([ 6.4,  2.9,  4.3,  1.3]), 1), (array([ 6.8,  2.8,  4.8,  1.4]), 1), (array([ 5.5,  2.4,  3.8,  1.1]), 1), (array([ 6. ,  2.7,  5.1,  1.6]), 1), (array([ 5.4,  3. ,  4.5,  1.5]), 1), (array([ 6. ,  3.4,  4.5,  1.6]), 1), (array([ 6.7,  3.1,  4.7,  1.5]), 1), (array([ 6.3,  2.3,  4.4,  1.3]), 1), (array([ 5.6,  3. ,  4.1,  1.3]), 1), (array([ 5.5,  2.5,  4. ,  1.3]), 1), (array([ 5.5,  2.6,  4.4,  1.2]), 1), (array([ 5. ,  2.3,  3.3,  1. ]), 1), (array([ 5.7,  3. ,  4.2,  1.2]), 1), (array([ 5.7,  2.9,  4.2,  1.3]), 1), (array([ 5.1,  2.5,  3. ,  1.1]), 1), (array([ 6.3,  3.3,  6. ,  2.5]), 2), (array([ 7.6,  3. ,  6.6,  2.1]), 2), (array([ 6.5,  3. ,  5.5,  1.8]), 2), (array([ 6.3,  2.7,  4.9,  1.8]), 2), (array([ 7.2,  3.2,  6. ,  1.8]), 2), (array([ 6.2,  2.8,  4.8,  1.8]), 2), (array([ 6.4,  2.8,  5.6,  2.1]), 2), (array([ 7.4,  2.8,  6.1,  1.9]), 2), (array([ 7.9,  3.8,  6.4,  2. ]), 2), (array([ 6.1,  2.6,  5.6,  1.4]), 2), (array([ 7.7,  3. ,  6.1,  2.3]), 2), (array([ 6.4,  3.1,  5.5,  1.8]), 2), (array([ 5.8,  2.7,  5.1,  1.9]), 2), (array([ 6.7,  3.3,  5.7,  2.5]), 2), (array([ 6.3,  2.5,  5. ,  1.9]), 2), (array([ 6.5,  3. ,  5.2,  2. ]), 2)]\n",
      "\n",
      "\n",
      "[(array([ 4.9,  3. ,  1.4,  0.2]), 0), (array([ 5.4,  3.9,  1.7,  0.4]), 0), (array([ 5. ,  3.4,  1.5,  0.2]), 0), (array([ 5.4,  3.7,  1.5,  0.2]), 0), (array([ 4.8,  3.4,  1.6,  0.2]), 0), (array([ 4.3,  3. ,  1.1,  0.1]), 0), (array([ 5.8,  4. ,  1.2,  0.2]), 0), (array([ 5.4,  3.9,  1.3,  0.4]), 0), (array([ 5.7,  3.8,  1.7,  0.3]), 0), (array([ 5.1,  3.8,  1.5,  0.3]), 0), (array([ 4.6,  3.6,  1. ,  0.2]), 0), (array([ 5.1,  3.3,  1.7,  0.5]), 0), (array([ 5. ,  3.4,  1.6,  0.4]), 0), (array([ 5.2,  3.5,  1.5,  0.2]), 0), (array([ 4.7,  3.2,  1.6,  0.2]), 0), (array([ 5.2,  4.1,  1.5,  0.1]), 0), (array([ 4.9,  3.1,  1.5,  0.1]), 0), (array([ 4.4,  3. ,  1.3,  0.2]), 0), (array([ 4.4,  3.2,  1.3,  0.2]), 0), (array([ 5. ,  3.5,  1.6,  0.6]), 0), (array([ 4.8,  3. ,  1.4,  0.3]), 0), (array([ 5.1,  3.8,  1.6,  0.2]), 0), (array([ 4.6,  3.2,  1.4,  0.2]), 0), (array([ 5.3,  3.7,  1.5,  0.2]), 0), (array([ 5. ,  3.3,  1.4,  0.2]), 0), (array([ 7. ,  3.2,  4.7,  1.4]), 1), (array([ 5.5,  2.3,  4. ,  1.3]), 1), (array([ 6.5,  2.8,  4.6,  1.5]), 1), (array([ 6.3,  3.3,  4.7,  1.6]), 1), (array([ 5.9,  3. ,  4.2,  1.5]), 1), (array([ 6. ,  2.2,  4. ,  1. ]), 1), (array([ 6.1,  2.9,  4.7,  1.4]), 1), (array([ 5.6,  2.9,  3.6,  1.3]), 1), (array([ 5.6,  3. ,  4.5,  1.5]), 1), (array([ 5.8,  2.7,  4.1,  1. ]), 1), (array([ 6.2,  2.2,  4.5,  1.5]), 1), (array([ 5.6,  2.5,  3.9,  1.1]), 1), (array([ 5.9,  3.2,  4.8,  1.8]), 1), (array([ 6.1,  2.8,  4. ,  1.3]), 1), (array([ 6.6,  3. ,  4.4,  1.4]), 1), (array([ 6.7,  3. ,  5. ,  1.7]), 1), (array([ 6. ,  2.9,  4.5,  1.5]), 1), (array([ 5.7,  2.6,  3.5,  1. ]), 1), (array([ 5.5,  2.4,  3.7,  1. ]), 1), (array([ 5.8,  2.7,  3.9,  1.2]), 1), (array([ 6.1,  3. ,  4.6,  1.4]), 1), (array([ 5.8,  2.6,  4. ,  1.2]), 1), (array([ 5.6,  2.7,  4.2,  1.3]), 1), (array([ 6.2,  2.9,  4.3,  1.3]), 1), (array([ 5.7,  2.8,  4.1,  1.3]), 1), (array([ 5.8,  2.7,  5.1,  1.9]), 2), (array([ 7.1,  3. ,  5.9,  2.1]), 2), (array([ 6.3,  2.9,  5.6,  1.8]), 2), (array([ 6.5,  3. ,  5.8,  2.2]), 2), (array([ 4.9,  2.5,  4.5,  1.7]), 2), (array([ 7.3,  2.9,  6.3,  1.8]), 2), (array([ 6.7,  2.5,  5.8,  1.8]), 2), (array([ 7.2,  3.6,  6.1,  2.5]), 2), (array([ 6.5,  3.2,  5.1,  2. ]), 2), (array([ 6.4,  2.7,  5.3,  1.9]), 2), (array([ 6.8,  3. ,  5.5,  2.1]), 2), (array([ 5.7,  2.5,  5. ,  2. ]), 2), (array([ 5.8,  2.8,  5.1,  2.4]), 2), (array([ 6.4,  3.2,  5.3,  2.3]), 2), (array([ 7.7,  3.8,  6.7,  2.2]), 2), (array([ 7.7,  2.6,  6.9,  2.3]), 2), (array([ 6. ,  2.2,  5. ,  1.5]), 2), (array([ 6.9,  3.2,  5.7,  2.3]), 2), (array([ 5.6,  2.8,  4.9,  2. ]), 2), (array([ 7.7,  2.8,  6.7,  2. ]), 2), (array([ 6.7,  3.3,  5.7,  2.1]), 2), (array([ 6.1,  3. ,  4.9,  1.8]), 2), (array([ 7.2,  3. ,  5.8,  1.6]), 2), (array([ 6.4,  2.8,  5.6,  2.2]), 2), (array([ 6.3,  2.8,  5.1,  1.5]), 2), (array([ 6.3,  3.4,  5.6,  2.4]), 2), (array([ 6. ,  3. ,  4.8,  1.8]), 2), (array([ 6.9,  3.1,  5.4,  2.1]), 2), (array([ 6.7,  3.1,  5.6,  2.4]), 2), (array([ 6.9,  3.1,  5.1,  2.3]), 2), (array([ 6.8,  3.2,  5.9,  2.3]), 2), (array([ 6.7,  3. ,  5.2,  2.3]), 2), (array([ 6.2,  3.4,  5.4,  2.3]), 2), (array([ 5.9,  3. ,  5.1,  1.8]), 2)]\n"
     ]
    }
   ],
   "source": [
    "#def data_split(data,prob):  \n",
    "#import numpy as np\n",
    "#from random import randint\n",
    "\n",
    "#def data_split(data, prob):\n",
    "#    train_set = []\n",
    "#    test_set = []\n",
    "#    for row in data:\n",
    "#        if (randint(0, 9) % 2 == 0):\n",
    "#            train_set.append(row)\n",
    "#        else:\n",
    "#            test_set.append(row)\n",
    "    \n",
    "#    return (train_set, test_set)\n",
    "\n",
    "#mytuple = data_split(zip(iris.data, iris.target), 0.5)\n",
    "\n",
    "#print(mytuple[0])\n",
    "#print()\n",
    "#print()\n",
    "#print(mytuple[1])\n",
    "\n",
    "def data_split(data, prob):\n",
    "    results = [], []\n",
    "    for row in data:\n",
    "        results[0 if ra,dpù.random() < prob else 1].append(row)\n",
    "    return results"
   ]
  },
  {
   "cell_type": "markdown",
   "metadata": {},
   "source": [
    "On a maintenant besoin de récupérer les labels associés aux exemples. \n",
    "\n",
    "Coder une fonction split_data_label qui renvoie un tuple de tableaux 2d : \n",
    "x_train, y_train, x_test, y_test\n",
    "\n",
    "Indice : vous aurez besoin de zip et de l'opérateur de déballage (*)"
   ]
  },
  {
   "cell_type": "code",
   "execution_count": 9,
   "metadata": {},
   "outputs": [
    {
     "data": {
      "text/plain": [
       "[('a', 1), ('b', 2), ('c', 3)]"
      ]
     },
     "execution_count": 9,
     "metadata": {},
     "output_type": "execute_result"
    }
   ],
   "source": [
    "x=['a','b','c']\n",
    "y=[1,2,3]\n",
    "l=list(zip(x,y))\n",
    "l"
   ]
  },
  {
   "cell_type": "code",
   "execution_count": 10,
   "metadata": {},
   "outputs": [
    {
     "data": {
      "text/plain": [
       "[('a', 'b', 'c'), (1, 2, 3)]"
      ]
     },
     "execution_count": 10,
     "metadata": {},
     "output_type": "execute_result"
    }
   ],
   "source": [
    "list(zip(*l))"
   ]
  },
  {
   "cell_type": "code",
   "execution_count": 11,
   "metadata": {
    "collapsed": true
   },
   "outputs": [],
   "source": [
    "#def split_data_label(x,y,prob)"
   ]
  },
  {
   "cell_type": "markdown",
   "metadata": {},
   "source": [
    "On souhaite maintenant coder les fonctions d'évaluations : performance, précision et rappel (et F-score éventuellement). \n",
    "\n",
    "L'évaluation sur l'ensemble de test va conduire à 4 entiers : TP,TN,FP,FN\n",
    "Ecrire les fonctions suivantes : "
   ]
  },
  {
   "cell_type": "code",
   "execution_count": 12,
   "metadata": {
    "collapsed": true
   },
   "outputs": [],
   "source": [
    "#def accuracy(tp,tn,fp,fn)"
   ]
  },
  {
   "cell_type": "code",
   "execution_count": 13,
   "metadata": {
    "collapsed": true
   },
   "outputs": [],
   "source": [
    "#def precision(tp,tn,fp,fn)"
   ]
  },
  {
   "cell_type": "code",
   "execution_count": 14,
   "metadata": {
    "collapsed": true
   },
   "outputs": [],
   "source": [
    "#def recall(tp,tn,fp,fn)"
   ]
  },
  {
   "cell_type": "markdown",
   "metadata": {},
   "source": [
    "On s'interesse désormais au niveau de profondeur de l'arbre de décision, accessible avec le paramètre max_depth de DecisionTreeClassifier, et à son impact sur les performances (que l'on souhaite visaliser). "
   ]
  },
  {
   "cell_type": "markdown",
   "metadata": {},
   "source": [
    "Faites varier le paramètre max_depth et calculer la performances du classifieur : \n",
    "- sur l'ensemble de test\n",
    "- sur l'ensemble d'apprentissage\n",
    "\n",
    "On présentera les résultats sur un graphique prenant max_depth en abscisse et la perf en ordonnée. Placer les 2 courbes sur le même graphique. Ajouter les labels sur les axes et une légende claire. \n",
    "\n",
    "Les plus rapides pourront faire de même avec le paramètre min_samples_split"
   ]
  },
  {
   "cell_type": "code",
   "execution_count": 15,
   "metadata": {
    "collapsed": true
   },
   "outputs": [],
   "source": [
    "#graphique à produire"
   ]
  },
  {
   "cell_type": "markdown",
   "metadata": {},
   "source": [
    "Quel est selon vous le meilleur valeur pour le paramètre max_depth ?\n",
    "Vérifier votre résultat avec un gridsearch. "
   ]
  },
  {
   "cell_type": "code",
   "execution_count": 16,
   "metadata": {
    "collapsed": true
   },
   "outputs": [],
   "source": [
    "#comparaison avec gridsearch"
   ]
  }
 ],
 "metadata": {
  "kernelspec": {
   "display_name": "Python 3",
   "language": "python",
   "name": "python3"
  },
  "language_info": {
   "codemirror_mode": {
    "name": "ipython",
    "version": 3
   },
   "file_extension": ".py",
   "mimetype": "text/x-python",
   "name": "python",
   "nbconvert_exporter": "python",
   "pygments_lexer": "ipython3",
   "version": "3.6.1"
  }
 },
 "nbformat": 4,
 "nbformat_minor": 1
}
