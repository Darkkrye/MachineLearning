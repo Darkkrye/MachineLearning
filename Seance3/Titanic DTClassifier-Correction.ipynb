{
 "cells": [
  {
   "cell_type": "markdown",
   "metadata": {},
   "source": [
    "# Titanic corrigé"
   ]
  },
  {
   "cell_type": "code",
   "execution_count": null,
   "metadata": {
    "collapsed": true
   },
   "outputs": [],
   "source": [
    "import pandas as pd\n",
    "import numpy as np"
   ]
  },
  {
   "cell_type": "code",
   "execution_count": null,
   "metadata": {
    "collapsed": false
   },
   "outputs": [],
   "source": [
    "titanic_data = pd.read_csv(\"http://web.stanford.edu/class/archive/cs/cs109/cs109.1166/stuff/titanic.csv\")"
   ]
  },
  {
   "cell_type": "markdown",
   "metadata": {},
   "source": [
    "## Exo 1"
   ]
  },
  {
   "cell_type": "code",
   "execution_count": null,
   "metadata": {
    "collapsed": false
   },
   "outputs": [],
   "source": [
    "# pas de valeurs manquantes\n",
    "titanic_data.info()"
   ]
  },
  {
   "cell_type": "code",
   "execution_count": null,
   "metadata": {
    "collapsed": false
   },
   "outputs": [],
   "source": [
    "y=titanic_data['Survived']\n",
    "y.shape"
   ]
  },
  {
   "cell_type": "code",
   "execution_count": null,
   "metadata": {
    "collapsed": false
   },
   "outputs": [],
   "source": [
    "#545 victimes et 342 survivants\n",
    "from collections import Counter\n",
    "Counter(y)\n"
   ]
  },
  {
   "cell_type": "markdown",
   "metadata": {},
   "source": [
    "On vérifie la constitution des lignes"
   ]
  },
  {
   "cell_type": "code",
   "execution_count": null,
   "metadata": {
    "collapsed": false
   },
   "outputs": [],
   "source": [
    "titanic_data.values[0]"
   ]
  },
  {
   "cell_type": "code",
   "execution_count": null,
   "metadata": {
    "collapsed": false
   },
   "outputs": [],
   "source": [
    "# age moyen des victimes\n",
    "ages=[]\n",
    "for line in titanic_data.values:\n",
    "    if line[0]==0:\n",
    "        ages.append(line[4])\n",
    "np.average(ages)"
   ]
  },
  {
   "cell_type": "markdown",
   "metadata": {},
   "source": [
    "Aparté : mesurer la vitesse d'execution d'une cellule"
   ]
  },
  {
   "cell_type": "code",
   "execution_count": null,
   "metadata": {
    "collapsed": false
   },
   "outputs": [],
   "source": [
    "%%timeit\n",
    "# age moyen des victimes\n",
    "ages=[]\n",
    "for line in titanic_data.values:\n",
    "    if line[0]==0:\n",
    "        ages.append(line[4])\n",
    "np.average(ages)"
   ]
  },
  {
   "cell_type": "code",
   "execution_count": null,
   "metadata": {
    "collapsed": false
   },
   "outputs": [],
   "source": [
    "# avec des listes en compréhension\n",
    "\n",
    "ages=[line[4] for line in titanic_data.values if line[0]==0 ]\n",
    "np.average(ages)"
   ]
  },
  {
   "cell_type": "code",
   "execution_count": null,
   "metadata": {
    "collapsed": false
   },
   "outputs": [],
   "source": [
    "ages=[line[4] for line in titanic_data.values if line[0]==1 ]\n",
    "np.average(ages)"
   ]
  },
  {
   "cell_type": "markdown",
   "metadata": {},
   "source": [
    "Plus joli, avec indexation par masque booléen"
   ]
  },
  {
   "cell_type": "code",
   "execution_count": null,
   "metadata": {
    "collapsed": false
   },
   "outputs": [],
   "source": [
    "np.average(titanic_data['Age'][titanic_data['Survived']==1])"
   ]
  },
  {
   "cell_type": "markdown",
   "metadata": {},
   "source": [
    "Aparté : Pour mesurer la vitesse d'execution d'une seule ligne (avec output). On peut remplacer les underscores par In[cellule précédente] ou écrire directement l'instruction"
   ]
  },
  {
   "cell_type": "code",
   "execution_count": null,
   "metadata": {
    "collapsed": false
   },
   "outputs": [],
   "source": [
    "%timeit __"
   ]
  },
  {
   "cell_type": "markdown",
   "metadata": {},
   "source": [
    "## Exo 2\n",
    "On commence par enlever les attributs non pertinents. ici, le nom des passagers (tous distincts)"
   ]
  },
  {
   "cell_type": "code",
   "execution_count": null,
   "metadata": {
    "collapsed": false
   },
   "outputs": [],
   "source": [
    "x=titanic_data.drop('Survived', axis=1)"
   ]
  },
  {
   "cell_type": "markdown",
   "metadata": {},
   "source": [
    "On vérifie "
   ]
  },
  {
   "cell_type": "code",
   "execution_count": null,
   "metadata": {
    "collapsed": false
   },
   "outputs": [],
   "source": [
    "x.columns, x.shape"
   ]
  },
  {
   "cell_type": "code",
   "execution_count": null,
   "metadata": {
    "collapsed": false
   },
   "outputs": [],
   "source": [
    "x=x.drop('Name', axis=1)\n",
    "x = pd.get_dummies(x, columns=['Sex'])\n",
    "x.columns\n"
   ]
  },
  {
   "cell_type": "markdown",
   "metadata": {},
   "source": [
    "## Exo 3"
   ]
  },
  {
   "cell_type": "code",
   "execution_count": null,
   "metadata": {
    "collapsed": false
   },
   "outputs": [],
   "source": [
    "from sklearn.tree import DecisionTreeClassifier\n",
    " \n",
    "clf = DecisionTreeClassifier().fit(x,y)"
   ]
  },
  {
   "cell_type": "code",
   "execution_count": null,
   "metadata": {
    "collapsed": false
   },
   "outputs": [],
   "source": [
    "from sklearn.tree import export_graphviz\n",
    "from IPython.core.display import Image, display\n",
    "def printTree(clf):\n",
    "    with open(\"tree.dot\", 'w') as f:\n",
    "        export_graphviz(clf, out_file=f,\n",
    "                       feature_names=x.columns,\n",
    "                        filled=True)\n",
    "    !dot -Tpng tree.dot -o tree.png \n",
    "    display(Image('tree.png'))\n",
    "    \n",
    "printTree(clf)"
   ]
  },
  {
   "cell_type": "markdown",
   "metadata": {},
   "source": [
    "## Exo 4\n",
    "On reprend les mesures de performances"
   ]
  },
  {
   "cell_type": "code",
   "execution_count": null,
   "metadata": {
    "collapsed": true
   },
   "outputs": [],
   "source": [
    "def accuracy(y_pred,y) : \n",
    "    return (sum(y_pred == y))/len(y)\n"
   ]
  },
  {
   "cell_type": "code",
   "execution_count": null,
   "metadata": {
    "collapsed": true
   },
   "outputs": [],
   "source": [
    "import random\n",
    "def data_split(x, y, prob):\n",
    "        train,test=[],[]\n",
    "        d=zip(x,y)\n",
    "        for line in d:\n",
    "            if(random.random()<prob):\n",
    "                train.append(line)\n",
    "            else :\n",
    "                test.append(line)\n",
    "        \n",
    "        x_train,y_train=list(zip(*train))\n",
    "        x_test,y_test=list(zip(*test))\n",
    "        return x_train,y_train, x_test,y_test\n"
   ]
  },
  {
   "cell_type": "markdown",
   "metadata": {},
   "source": [
    "On mesure la performance du classifieur en séparant les données en 2 ensembles d'apprentissage et de tests "
   ]
  },
  {
   "cell_type": "code",
   "execution_count": null,
   "metadata": {
    "collapsed": false
   },
   "outputs": [],
   "source": [
    "x_train,y_train, x_test,y_test=data_split(x.values, y, .7)\n",
    "clf = DecisionTreeClassifier().fit(x_train,y_train)\n",
    "y_pred=clf.predict(x_test)\n",
    "print(accuracy(y_pred,y_test))"
   ]
  },
  {
   "cell_type": "markdown",
   "metadata": {},
   "source": [
    "Pour le calcul de la performance en fonction de la profondeur, on moyenne la performance sur 100 tirages pour avoir une valeur plus fiable"
   ]
  },
  {
   "cell_type": "code",
   "execution_count": null,
   "metadata": {
    "collapsed": false
   },
   "outputs": [],
   "source": [
    "def calculAccuracy(maxdepth):\n",
    "    res=[]\n",
    "    for i in range(100):\n",
    "        x_train,y_train, x_test,y_test=data_split(x.values, y, .5)\n",
    "        clf = DecisionTreeClassifier(max_depth=maxdepth).fit(x_train,y_train)\n",
    "        y_pred=clf.predict(x_test)\n",
    "        res.append(accuracy(y_pred,y_test))\n",
    "    return np.average(res)\n",
    "\n",
    "calculAccuracy(20)"
   ]
  },
  {
   "cell_type": "markdown",
   "metadata": {},
   "source": [
    "L'arbre complet compte 22 niveaux"
   ]
  },
  {
   "cell_type": "code",
   "execution_count": null,
   "metadata": {
    "collapsed": false
   },
   "outputs": [],
   "source": [
    "accTest=[calculAccuracy(maxdepth) for maxdepth in np.arange(1,23) ]"
   ]
  },
  {
   "cell_type": "code",
   "execution_count": null,
   "metadata": {
    "collapsed": false
   },
   "outputs": [],
   "source": [
    "%matplotlib inline\n",
    "import matplotlib.pyplot as plt\n",
    "import seaborn as sns \n",
    "\n",
    "plt.ylim([0,1])\n",
    "plt.plot(accTest);"
   ]
  },
  {
   "cell_type": "code",
   "execution_count": null,
   "metadata": {
    "collapsed": true
   },
   "outputs": [],
   "source": [
    "def calculAccuracyTRAIN(maxd):\n",
    "    res=[]\n",
    "    for i in range(100):\n",
    "        x_train,y_train, x_test,y_test=data_split(x.values, y, .7)\n",
    "        clf = DecisionTreeClassifier(max_depth=maxd).fit(x_train,y_train)\n",
    "        y_pred=clf.predict(x_train)\n",
    "        res.append(accuracy(y_pred,y_train))\n",
    "    return np.average(res)"
   ]
  },
  {
   "cell_type": "code",
   "execution_count": null,
   "metadata": {
    "collapsed": false
   },
   "outputs": [],
   "source": [
    "accTrain=[calculAccuracyTRAIN(maxdepth) for maxdepth in np.arange(1,23) ]"
   ]
  },
  {
   "cell_type": "code",
   "execution_count": null,
   "metadata": {
    "collapsed": false
   },
   "outputs": [],
   "source": [
    "plt.plot(accTest)\n",
    "plt.plot(accTrain);"
   ]
  },
  {
   "cell_type": "markdown",
   "metadata": {},
   "source": [
    "On constate que la performance est maximisée avec max_depth = 3. On obtient donc l'arbre suivant  :\n"
   ]
  },
  {
   "cell_type": "code",
   "execution_count": null,
   "metadata": {
    "collapsed": false
   },
   "outputs": [],
   "source": [
    "x_train,y_train, x_test,y_test=data_split(x.values, y, .7)\n",
    "clf = DecisionTreeClassifier(max_depth=3).fit(x_train,y_train)\n",
    "printTree(clf)"
   ]
  },
  {
   "cell_type": "markdown",
   "metadata": {},
   "source": [
    "De même, on peut étudier l'impact d'autres (hyper) - paramètres sur la performance : \n",
    "\n",
    "- max_leaf_nodes\n",
    "- min_samples_leaf\n",
    "- min_samples_split\n",
    "\n",
    "Attention, si on souhaite combiner (naivement) la recherche de paramètres optimaux, il faudrait imbriquer autant de boucles que de paramètres à tester. "
   ]
  },
  {
   "cell_type": "markdown",
   "metadata": {},
   "source": [
    "## Exo 5\n",
    "Répartition homme/femme chez les rescapés. \n",
    "D'abord la repartition globale :"
   ]
  },
  {
   "cell_type": "code",
   "execution_count": null,
   "metadata": {
    "collapsed": false
   },
   "outputs": [],
   "source": [
    "Counter(titanic_data['Sex'])"
   ]
  },
  {
   "cell_type": "markdown",
   "metadata": {},
   "source": [
    "Ensuite, la répartition selon la destiné"
   ]
  },
  {
   "cell_type": "code",
   "execution_count": null,
   "metadata": {
    "collapsed": true
   },
   "outputs": [],
   "source": [
    "surv= titanic_data['Sex'][titanic_data['Survived']==1]\n",
    "noy= titanic_data['Sex'][titanic_data['Survived']==0]"
   ]
  },
  {
   "cell_type": "code",
   "execution_count": null,
   "metadata": {
    "collapsed": false
   },
   "outputs": [],
   "source": [
    "csurv=Counter(surv)\n",
    "cnoy=Counter(noy)"
   ]
  },
  {
   "cell_type": "code",
   "execution_count": null,
   "metadata": {
    "collapsed": false
   },
   "outputs": [],
   "source": [
    "csurv['female'],cnoy['female']"
   ]
  },
  {
   "cell_type": "code",
   "execution_count": null,
   "metadata": {
    "collapsed": false
   },
   "outputs": [],
   "source": [
    "csurv['male'],cnoy['male']"
   ]
  },
  {
   "cell_type": "markdown",
   "metadata": {},
   "source": [
    "On peut aussi utiliser la méthode pd.crosstab"
   ]
  },
  {
   "cell_type": "code",
   "execution_count": null,
   "metadata": {
    "collapsed": false
   },
   "outputs": [],
   "source": [
    "table = pd.crosstab(titanic_data['Survived'],titanic_data['Sex'])\n",
    "table"
   ]
  },
  {
   "cell_type": "code",
   "execution_count": null,
   "metadata": {
    "collapsed": false
   },
   "outputs": [],
   "source": [
    "# pour les barres\n",
    "plt.bar(range(len(csurv)), csurv.values(), align='center' )\n",
    "# pour l'échelle sous les barres\n",
    "plt.xticks(range(len(csurv)),  csurv.keys())\n",
    "# légende\n",
    "plt.title('Survivants');\n"
   ]
  },
  {
   "cell_type": "code",
   "execution_count": null,
   "metadata": {
    "collapsed": false
   },
   "outputs": [],
   "source": [
    "plt.bar(range(len(cnoy)), cnoy.values(), align='center' )\n",
    "plt.xticks(range(len(cnoy)),  cnoy.keys())\n",
    "plt.title('Victimes');"
   ]
  },
  {
   "cell_type": "code",
   "execution_count": null,
   "metadata": {
    "collapsed": false
   },
   "outputs": [],
   "source": [
    "fig,ax=plt.subplots(nrows=1, ncols=2,figsize=(20, 5))\n",
    "ax[0].bar(range(2), Counter(cnoy).values(), align='center')\n",
    "ax[1].bar(range(2), Counter(csurv).values(), align='center')\n",
    "ax[0].set_title('Victimes')\n",
    "ax[1].set_title('Survivants')\n",
    "\n",
    "plt.sca(ax[0])\n",
    "plt.xticks(range(2), cnoy.keys(), color='red')\n",
    "plt.sca(ax[1])\n",
    "plt.xticks(range(2), cnoy.keys(), color='green');\n",
    "\n",
    " "
   ]
  },
  {
   "cell_type": "markdown",
   "metadata": {
    "collapsed": true
   },
   "source": [
    "Pour finir, exporter ce notebook en pdf (installer latex au besoin)"
   ]
  }
 ],
 "metadata": {
  "kernelspec": {
   "display_name": "Python 3",
   "language": "python",
   "name": "python3"
  },
  "language_info": {
   "codemirror_mode": {
    "name": "ipython",
    "version": 3
   },
   "file_extension": ".py",
   "mimetype": "text/x-python",
   "name": "python",
   "nbconvert_exporter": "python",
   "pygments_lexer": "ipython3",
   "version": "3.5.2"
  }
 },
 "nbformat": 4,
 "nbformat_minor": 1
}
